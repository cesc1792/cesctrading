{
 "cells": [
  {
   "cell_type": "code",
   "execution_count": 0,
   "metadata": {
    "collapsed": true
   },
   "outputs": [],
   "source": [
    "#https://enlight.nyc/stock-market-prediction"
   ]
  },
  {
   "cell_type": "code",
   "execution_count": 18,
   "metadata": {},
   "outputs": [
    {
     "name": "stderr",
     "output_type": "stream",
     "text": [
      "C:\\Users\\tranb\\PycharmProjects\\untitled2\\venv\\lib\\site-packages\\sklearn\\cross_validation.py:41: DeprecationWarning: This module was deprecated in version 0.18 in favor of the model_selection module into which all the refactored classes and functions are moved. Also note that the interface of the new CV iterators are different from that of this module. This module will be removed in 0.20.\n  \"This module will be removed in 0.20.\", DeprecationWarning)\n"
     ]
    }
   ],
   "source": [
    "import quandl\n",
    "import pandas as pd\n",
    "import numpy as np\n",
    "import datetime\n",
    "from sklearn.linear_model import LinearRegression\n",
    "from sklearn import preprocessing, cross_validation, svm"
   ]
  },
  {
   "cell_type": "code",
   "execution_count": 27,
   "metadata": {},
   "outputs": [],
   "source": [
    "df=quandl.get('wiki/AMZN')"
   ]
  },
  {
   "cell_type": "code",
   "execution_count": 32,
   "metadata": {},
   "outputs": [
    {
     "name": "stdout",
     "output_type": "stream",
     "text": [
      "               Open     High      Low    Close     Volume  Ex-Dividend  \\\nDate                                                                     \n2018-03-21  1586.45  1590.00  1563.17  1581.86  4667291.0          0.0   \n2018-03-22  1565.47  1573.85  1542.40  1544.10  6177737.0          0.0   \n2018-03-23  1539.01  1549.02  1495.36  1495.56  7843966.0          0.0   \n2018-03-26  1530.00  1556.99  1499.25  1555.86  5547618.0          0.0   \n2018-03-27  1572.40  1575.96  1482.32  1497.05  6793279.0          0.0   \n\n            Split Ratio  Adj. Open  Adj. High  Adj. Low  Adj. Close  \\\nDate                                                                  \n2018-03-21          1.0    1586.45    1590.00   1563.17     1581.86   \n2018-03-22          1.0    1565.47    1573.85   1542.40     1544.10   \n2018-03-23          1.0    1539.01    1549.02   1495.36     1495.56   \n2018-03-26          1.0    1530.00    1556.99   1499.25     1555.86   \n2018-03-27          1.0    1572.40    1575.96   1482.32     1497.05   \n\n            Adj. Volume  \nDate                     \n2018-03-21    4667291.0  \n2018-03-22    6177737.0  \n2018-03-23    7843966.0  \n2018-03-26    5547618.0  \n2018-03-27    6793279.0  \n"
     ]
    }
   ],
   "source": [
    "print(df.tail())"
   ]
  },
  {
   "cell_type": "code",
   "execution_count": 33,
   "metadata": {},
   "outputs": [],
   "source": [
    "df=df[['Adj. Close']]"
   ]
  },
  {
   "cell_type": "code",
   "execution_count": 37,
   "metadata": {},
   "outputs": [],
   "source": [
    "forecash_out=int(30)\n",
    "df['Prediction']=df[['Adj. Close']].shift(-forecash_out)"
   ]
  },
  {
   "cell_type": "code",
   "execution_count": 38,
   "metadata": {},
   "outputs": [
    {
     "name": "stdout",
     "output_type": "stream",
     "text": [
      "            Adj. Close  Prediction\nDate                              \n2018-03-21     1581.86         NaN\n2018-03-22     1544.10         NaN\n2018-03-23     1495.56         NaN\n2018-03-26     1555.86         NaN\n2018-03-27     1497.05         NaN\n"
     ]
    }
   ],
   "source": [
    "print(df.tail())"
   ]
  },
  {
   "cell_type": "code",
   "execution_count": 39,
   "metadata": {},
   "outputs": [],
   "source": [
    "X=np.array(df.drop(['Prediction'],1))\n",
    "X=preprocessing.scale(X)"
   ]
  },
  {
   "cell_type": "code",
   "execution_count": 40,
   "metadata": {},
   "outputs": [],
   "source": [
    "X_forecast=X[-forecash_out:]\n",
    "X=X[:-forecash_out]"
   ]
  },
  {
   "cell_type": "code",
   "execution_count": 43,
   "metadata": {},
   "outputs": [],
   "source": [
    "y=np.array(df['Prediction'])\n",
    "y=y[:-forecash_out]\n"
   ]
  },
  {
   "cell_type": "code",
   "execution_count": 45,
   "metadata": {},
   "outputs": [],
   "source": [
    "X_train,X_test,y_train,y_test=cross_validation.train_test_split(X,y,test_size=0.2)"
   ]
  },
  {
   "cell_type": "code",
   "execution_count": 46,
   "metadata": {},
   "outputs": [
    {
     "name": "stdout",
     "output_type": "stream",
     "text": [
      "confidence: 0.9869667983429552\n"
     ]
    }
   ],
   "source": [
    "clf=LinearRegression()\n",
    "clf.fit(X_train,y_train)\n",
    "\n",
    "confidence=clf.score(X_test,y_test)\n",
    "print('confidence:', confidence)"
   ]
  },
  {
   "cell_type": "code",
   "execution_count": 48,
   "metadata": {},
   "outputs": [
    {
     "name": "stdout",
     "output_type": "stream",
     "text": [
      "[1500.26855889 1539.10871715 1550.49290147 1536.60015739 1557.4977357\n 1572.98490335 1574.9407296  1591.14007312 1614.47180475 1603.87420273\n 1604.37378878 1584.17775684 1591.40581038 1616.23630017 1631.14947533\n 1638.97278034 1646.26461082 1674.99612362 1695.72363008 1684.87092029\n 1687.86843661 1678.64203886 1667.33226097 1638.8983739  1683.09579538\n 1678.1530823  1638.01612619 1586.42057934 1650.51640701 1588.00437342]\n"
     ]
    }
   ],
   "source": [
    "forecast_prediction=clf.predict(X_forecast)\n",
    "print(forecast_prediction)"
   ]
  },
  {
   "cell_type": "code",
   "execution_count": null,
   "metadata": {},
   "outputs": [],
   "source": []
  }
 ],
 "metadata": {
  "kernelspec": {
   "display_name": "Python 2",
   "language": "python",
   "name": "python2"
  },
  "language_info": {
   "codemirror_mode": {
    "name": "ipython",
    "version": 2
   },
   "file_extension": ".py",
   "mimetype": "text/x-python",
   "name": "python",
   "nbconvert_exporter": "python",
   "pygments_lexer": "ipython2",
   "version": "2.7.6"
  }
 },
 "nbformat": 4,
 "nbformat_minor": 0
}
